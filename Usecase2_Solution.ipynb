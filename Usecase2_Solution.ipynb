{
 "cells": [
  {
   "cell_type": "code",
   "execution_count": null,
   "metadata": {},
   "outputs": [],
   "source": [
    "import json\n",
    "import boto3\n",
    "import time\n",
    "\n",
    "session = boto3.Session(aws_access_key_id='Your_Access_Key_id',aws_secret_access_key='Your_Secret_Access_Key')\n",
    "temperatureClient = session.client('firehose',region_name='us-east-1')\n",
    "\n",
    "\n",
    "with open('tweets.json','r',encoding='utf-8') as json_file:\n",
    "    observations = json.loads(json_file.read())\n",
    "\n",
    "    for observation in range(0,14000):\n",
    "        # I removed the tweet_coord because crawler can't understand its structure\n",
    "        del observations[observation]['tweet_coord']\n",
    "        \n",
    "#         print(observations[observation])\n",
    "#         if observation % 20 == 0:\n",
    "#             time.sleep(1)\n",
    "        print(observations[observation])\n",
    "        response = temperatureClient.put_record(\n",
    "           DeliveryStreamName='PUT-S3-HLnli',\n",
    "           Record={\n",
    "                'Data': json.dumps(observations[observation])+'\\n'\n",
    "            }\n",
    "        )\n",
    "        print(response)"
   ]
  },
  {
   "cell_type": "code",
   "execution_count": null,
   "metadata": {},
   "outputs": [],
   "source": [
    "bucket_name = 'row-data'\n",
    "\n",
    "session = boto3.Session(aws_access_key_id='Your_Access_Key_id',aws_secret_access_key='Your_Secret_Access_Key')\n",
    "s3 = session.client('s3')\n",
    "kinises = session.client('firehose',region_name='us-east-1')\n",
    "\n",
    "keys = s3.list_objects_v2(Bucket=bucket_name)['Contents']\n",
    "for key in keys:\n",
    "    file = s3.get_object(Bucket = bucket_name, Key =key['Key'])\n",
    "\n",
    "    pragraphs = str(file['Body'].read().decode(\"utf-8\"))[:-1]\n",
    "    pragraphs = pragraphs.split(\"\\n\")\n",
    "    \n",
    "    \n",
    "    for pragraph in pragraphs:\n",
    "        pragraph = json.loads(pragraph)\n",
    "        \n",
    "        Text = pragraph['text']\n",
    "        #pass to comperhend and get the response\n",
    "        comperhand = session.client('comprehend',region_name='us-east-1')\n",
    "        response = comperhand.detect_sentiment(Text = Text, LanguageCode = 'en')\n",
    "        # add it to the record\n",
    "        pragraph['Sentiment'] = response['Sentiment']\n",
    "\n",
    "        response = kinises.put_record(\n",
    "                   DeliveryStreamName='PUT-S3-for-athena',\n",
    "                   Record={\n",
    "                        'Data': json.dumps(pragraph)+'\\n'\n",
    "                    }\n",
    "        )\n",
    "    s3.delete_object(Bucket=bucket_name, Key=key['Key'])"
   ]
  },
  {
   "cell_type": "code",
   "execution_count": null,
   "metadata": {},
   "outputs": [],
   "source": []
  },
  {
   "cell_type": "code",
   "execution_count": null,
   "metadata": {},
   "outputs": [],
   "source": []
  },
  {
   "cell_type": "code",
   "execution_count": null,
   "metadata": {},
   "outputs": [],
   "source": []
  }
 ],
 "metadata": {
  "kernelspec": {
   "display_name": "Python 3",
   "language": "python",
   "name": "python3"
  },
  "language_info": {
   "codemirror_mode": {
    "name": "ipython",
    "version": 3
   },
   "file_extension": ".py",
   "mimetype": "text/x-python",
   "name": "python",
   "nbconvert_exporter": "python",
   "pygments_lexer": "ipython3",
   "version": "3.8.5"
  }
 },
 "nbformat": 4,
 "nbformat_minor": 4
}
