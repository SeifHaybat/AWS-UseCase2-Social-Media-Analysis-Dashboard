{
 "cells": [
  {
   "cell_type": "code",
   "execution_count": null,
   "metadata": {},
   "outputs": [],
   "source": [
    "import json \n",
    "import boto3\n",
    "\n",
    "def lambda_handler(event,context):\n",
    "    bucket_name = ''\n",
    "    session = boto3.Session(aws_access_key_id='',aws_secret_access_key='')\n",
    "    s3 = session.client('s3')\n",
    "    kinises = session.client('firehose',region_name='us-east-1')\n",
    "    \n",
    "    keys = s3.list_objects_v2(Bucket=bucket_name)['Contents']\n",
    "    for key in keys:\n",
    "        file = s3.get_object(Bucket = bucket_name, Key =key['Key'])\n",
    "    \n",
    "        pragraphs = str(file['Body'].read().decode(\"utf-8\"))[:-1]\n",
    "        pragraphs = pragraphs.split(\"\\n\")\n",
    "        \n",
    "        \n",
    "        for pragraph in pragraphs:\n",
    "            pragraph = json.loads(pragraph)\n",
    "            \n",
    "            Text = pragraph['text']\n",
    "            #pass to comperhend and get the response\n",
    "            comperhand = session.client('comprehend',region_name='us-east-1')\n",
    "            response = comperhand.detect_sentiment(Text = Text, LanguageCode = 'en')\n",
    "            # add it to the record\n",
    "            pragraph['Sentiment'] = response['Sentiment']\n",
    "            pragraph['Sentiment']\n",
    "            response = kinises.put_record(\n",
    "                       DeliveryStreamName='',\n",
    "                       Record={\n",
    "                            'Data': json.dumps(pragraph)+'\\n'\n",
    "                        }\n",
    "            )\n",
    "        s3.delete_object(Bucket=bucket_name, Key=key['Key'])"
   ]
  }
 ],
 "metadata": {
  "kernelspec": {
   "display_name": "Python 3",
   "language": "python",
   "name": "python3"
  },
  "language_info": {
   "codemirror_mode": {
    "name": "ipython",
    "version": 3
   },
   "file_extension": ".py",
   "mimetype": "text/x-python",
   "name": "python",
   "nbconvert_exporter": "python",
   "pygments_lexer": "ipython3",
   "version": "3.8.5"
  }
 },
 "nbformat": 4,
 "nbformat_minor": 4
}
